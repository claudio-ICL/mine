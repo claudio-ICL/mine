{
 "cells": [
  {
   "cell_type": "code",
   "execution_count": null,
   "id": "75de6d93",
   "metadata": {},
   "outputs": [],
   "source": [
    "from mine.samples import normal\n",
    "from mine import tests\n",
    "from mine import mutual_information\n",
    "import pandas as pd"
   ]
  },
  {
   "cell_type": "code",
   "execution_count": null,
   "id": "d72f53c1",
   "metadata": {},
   "outputs": [],
   "source": [
    "dim_x = 1\n",
    "dim_y = 1\n",
    "number_of_samples = int(2.5e6)\n",
    "empirical_sample_size = 2500\n",
    "num_of_epochs = 8"
   ]
  },
  {
   "cell_type": "code",
   "execution_count": null,
   "id": "240fc9fc",
   "metadata": {},
   "outputs": [],
   "source": [
    "ns, mi = tests.normal.multivariates(\n",
    "    dim_x=dim_x,\n",
    "    dim_y=dim_y,\n",
    "    number_of_samples=number_of_samples,\n",
    "    empirical_sample_size=empirical_sample_size,\n",
    "    num_of_epochs=num_of_epochs,\n",
    "    verbose=False,\n",
    ")"
   ]
  },
  {
   "cell_type": "code",
   "execution_count": null,
   "id": "2d334a2d",
   "metadata": {},
   "outputs": [],
   "source": [
    "training_sample = ns\n",
    "insample_mi = mi"
   ]
  },
  {
   "cell_type": "code",
   "execution_count": null,
   "id": "231a448c",
   "metadata": {},
   "outputs": [],
   "source": [
    "outsample_empirical_sample_size = 7500\n",
    "test_sample = normal.NormalSample.from_(training_sample)\n",
    "outsample_mi = mutual_information.MutualInformation(\n",
    "    dataset=test_sample,\n",
    "    test_function=insample_mi.test_function,\n",
    "    empirical_sample_size=outsample_empirical_sample_size,\n",
    ")"
   ]
  },
  {
   "cell_type": "code",
   "execution_count": null,
   "id": "dd425a54",
   "metadata": {},
   "outputs": [],
   "source": [
    "num_evaluations = 40\n",
    "exact_training_mi = [\n",
    "    training_sample.mutual_information() \n",
    "    for _ in range(num_evaluations)\n",
    "]\n",
    "empirical_training_mi = [\n",
    "    training_sample.mutual_information(empirical=True)\n",
    "    for _ in range(num_evaluations)\n",
    "]\n",
    "exact_test_mi = [\n",
    "    test_sample.mutual_information() \n",
    "    for _ in range(num_evaluations)\n",
    "]\n",
    "empirical_test_mi = [\n",
    "    test_sample.mutual_information(empirical=True)\n",
    "    for _ in range(num_evaluations)\n",
    "]"
   ]
  },
  {
   "cell_type": "code",
   "execution_count": null,
   "id": "510bf663",
   "metadata": {},
   "outputs": [],
   "source": [
    "insample_estimated_mi = [\n",
    "    insample_mi()\n",
    "    for _ in range(num_evaluations)    \n",
    "]\n",
    "outsample_estimated_mi = [\n",
    "    outsample_mi()\n",
    "    for _ in range(num_evaluations)    \n",
    "]"
   ]
  },
  {
   "cell_type": "code",
   "execution_count": null,
   "id": "6479116d",
   "metadata": {},
   "outputs": [],
   "source": [
    "df = pd.DataFrame.from_dict(dict(\n",
    "    insample_estimated_mi=insample_estimated_mi,\n",
    "    outsample_estimated_mi=outsample_estimated_mi,\n",
    "    exact_training_mi=exact_training_mi,\n",
    "    empirical_training_mi=empirical_training_mi,\n",
    "    exact_test_mi=exact_test_mi,\n",
    "    empirical_test_mi=empirical_test_mi,\n",
    "))"
   ]
  },
  {
   "cell_type": "code",
   "execution_count": null,
   "id": "683a3a8b",
   "metadata": {},
   "outputs": [],
   "source": [
    "df.plot()"
   ]
  },
  {
   "cell_type": "code",
   "execution_count": null,
   "id": "662598a0",
   "metadata": {},
   "outputs": [],
   "source": [
    "df.describe()"
   ]
  }
 ],
 "metadata": {
  "kernelspec": {
   "display_name": "mine",
   "language": "python",
   "name": "mine"
  },
  "language_info": {
   "codemirror_mode": {
    "name": "ipython",
    "version": 3
   },
   "file_extension": ".py",
   "mimetype": "text/x-python",
   "name": "python",
   "nbconvert_exporter": "python",
   "pygments_lexer": "ipython3",
   "version": "3.10.6"
  }
 },
 "nbformat": 4,
 "nbformat_minor": 5
}
